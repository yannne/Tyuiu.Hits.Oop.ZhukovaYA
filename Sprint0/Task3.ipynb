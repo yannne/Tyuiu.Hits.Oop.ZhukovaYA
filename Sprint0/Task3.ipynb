{
 "cells": [
  {
   "cell_type": "markdown",
   "metadata": {},
   "source": [
    "<h1 style=\"color:DodgerBlue\">Индивидальный проект</h1>"
   ]
  },
  {
   "cell_type": "markdown",
   "metadata": {},
   "source": [
    "<h2 style=\"color:DodgerBlue\">Название проекта:</h2>\n",
    "\n",
    "----\n",
    "\n",
    "### Вариант задания 7\n"
   ]
  },
  {
   "cell_type": "markdown",
   "metadata": {},
   "source": [
    "<h2 style=\"color:DodgerBlue\">Описание проекта:</h2>\n",
    "\n",
    "----\n",
    "\n",
    "Создать базовый класс BankAccount в C#, который будет представлять\n",
    "информацию об учетных записях в банке. На основе этого класса разработать 2-3\n",
    "производных класса, демонстрирующих принципы наследования и полиморфизма.\n",
    "В каждом из классов должны быть реализованы новые атрибуты и методы, а также\n",
    "переопределены некоторые методы базового класса для демонстрации\n",
    "полиморфизма.\n",
    "\n",
    "Требования к базовому классу BankAccount:\n",
    "\n",
    "• Атрибуты: \n",
    "Номер счета (AccountNumber), Баланс (Balance), Тип счета (AccountType).\n",
    "\n",
    "• Методы:\n",
    "\n",
    "o GetInfo(): метод для получения информации о счете в виде строки.\n",
    "\n",
    "o Deposit(decimal amount): метод для внесения денег на счет.\n",
    "\n",
    "o Withdraw(decimal amount): метод для снятия денег со счета.\n",
    "\n",
    "Требования к производным классам:\n",
    "\n",
    "1. Сберегательный счет (SavingsAccount):\n",
    "Должен содержать дополнительные атрибуты, такие как Процентная ставка (InterestRate). \n",
    "Метод Deposit() должен быть переопределен для добавления процентов к сумме вклада при внесении денег на счет.\n",
    "\n",
    "2. Текущий счет (CheckingAccount): \n",
    "Должен содержать дополнительные атрибуты, такие как Лимит овердрафта (OverdraftLimit).\n",
    "Метод Withdraw() должен быть переопределен для проверки и применения лимита овердрафта при снятии денег со счета.\n",
    "\n",
    "3. Инвестиционный счет (InvestmentAccount) (если требуется третий класс):\n",
    "Должен содержать дополнительные атрибуты, такие как Список активов (AssetsList). \n",
    "Метод GetInfo() должен быть переопределен для включения информации о списках активов в описании счета\n"
   ]
  },
  {
   "cell_type": "markdown",
   "metadata": {},
   "source": [
    "<h2 style=\"color:DodgerBlue\">Реализация:</h2>\n",
    "\n",
    "----"
   ]
  },
  {
   "cell_type": "code",
   "execution_count": 1,
   "metadata": {
    "dotnet_interactive": {
     "language": "csharp"
    },
    "polyglot_notebook": {
     "kernelName": "csharp"
    }
   },
   "outputs": [
    {
     "name": "stdout",
     "output_type": "stream",
     "text": [
      "\n",
      "Номер счёта: 5555 | Баланс: 0 руб. | Тип счёта: Сберегательный счёт\n",
      "Зачисление на счёт 1500 руб + проценты 300 руб. Баланс: 1800 руб.\n",
      "\n",
      "Номер счёта: 6666 | Баланс: 0 руб. | Тип счёта: Текущий счёт\n",
      "Нельзя снять деньги с счёта. Превышен лимит овердрафта.\n",
      "Списание с счёта 1000 руб. Баланс: -1000 руб.\n",
      "\n",
      "Номер счёта: 7777 | Баланс: 0 руб. | Тип счёта: Инвестиционный счёт \n",
      "Список активов: Газпромбанк, ВТБ\n"
     ]
    }
   ],
   "source": [
    "public class BankAccount{\n",
    "\n",
    "    public string AccountNumber;\n",
    "    public decimal Balance = 0;\n",
    "    public string AccountType;\n",
    "\n",
    "    public BankAccount(string _AccountNumber, string _AccountType){\n",
    "        AccountNumber = _AccountNumber;\n",
    "        AccountType = _AccountType;\n",
    "    }\n",
    "\n",
    "    public virtual void GetInfo(){\n",
    "        Console.WriteLine($\"\\nНомер счёта: {AccountNumber} | Баланс: {Balance} руб. | Тип счёта: {AccountType}\");\n",
    "    }\n",
    "\n",
    "    public virtual void Deposit(decimal amount){\n",
    "        Balance += amount;\n",
    "        Console.WriteLine($\"Зачисление на счёт {amount} руб. Баланс: {Balance} руб.\");\n",
    "    }\n",
    "\n",
    "    public virtual void Withdraw(decimal amount){\n",
    "        if (Balance < amount) Console.WriteLine($\"Недостаточность средств\");\n",
    "        else {\n",
    "            Balance-= amount;\n",
    "            Console.WriteLine($\"Списание с счёта {amount} руб. Баланс: {Balance} руб.\");\n",
    "        }\n",
    "    }\n",
    "}\n",
    "\n",
    "public class SavingsAccount : BankAccount{\n",
    "    private decimal InterestRate;\n",
    "\n",
    "    public SavingsAccount(string _AccountNumber, decimal _InterestRate) : base(_AccountNumber, \"Сберегательный счёт\"){\n",
    "        InterestRate = _InterestRate;\n",
    "    }\n",
    "    \n",
    "    public override void Deposit(decimal amount){\n",
    "        decimal interest = (amount*InterestRate)/100;\n",
    "        Balance += amount + interest;\n",
    "        Console.WriteLine($\"Зачисление на счёт {amount} руб + проценты {interest} руб. Баланс: {Balance} руб.\");\n",
    "    }\n",
    "}\n",
    "\n",
    "public class CheckingAccount : BankAccount{\n",
    "    private decimal OverdraftLimit;\n",
    "\n",
    "    public CheckingAccount(string _AccountNumber, decimal _OverdraftLimit) : base(_AccountNumber, \"Текущий счёт\"){\n",
    "        OverdraftLimit = _OverdraftLimit;\n",
    "    }\n",
    "    \n",
    "    public override void Withdraw(decimal amount){\n",
    "            if(amount > Balance + OverdraftLimit) Console.WriteLine($\"Нельзя снять деньги с счёта. Превышен лимит овердрафта.\");\n",
    "            else {\n",
    "                Balance-= amount;\n",
    "                Console.WriteLine($\"Списание с счёта {amount} руб. Баланс: {Balance} руб.\");\n",
    "                }\n",
    "    }\n",
    "}\n",
    "\n",
    "public class InvestmentAccount : BankAccount{\n",
    "    private List<string> AssetsList;\n",
    "\n",
    "    public InvestmentAccount(string _AccountNumber, List<string> _AssetsList) : base(_AccountNumber, \"Инвестиционный счёт\"){\n",
    "        AssetsList = _AssetsList;\n",
    "    }\n",
    "    \n",
    "    public override void GetInfo(){\n",
    "        Console.WriteLine($\"\\nНомер счёта: {AccountNumber} | Баланс: {Balance} руб. | Тип счёта: {AccountType} \\nСписок активов: {string.Join(\", \",AssetsList)}\");\n",
    "    }\n",
    "}\n",
    "\n",
    "SavingsAccount _Savings = new SavingsAccount(\"5555\", 20);\n",
    "_Savings.GetInfo();\n",
    "_Savings.Deposit(1500);\n",
    "\n",
    "CheckingAccount _Checking = new CheckingAccount(\"6666\", 5000);\n",
    "_Checking.GetInfo();\n",
    "_Checking.Withdraw(6000);\n",
    "\n",
    "_Checking.Withdraw(1000);\n",
    "\n",
    "InvestmentAccount _Investment = new InvestmentAccount(\"7777\", [\"Газпромбанк\",\"ВТБ\"]);\n",
    "_Investment.GetInfo();\n"
   ]
  }
 ],
 "metadata": {
  "kernelspec": {
   "display_name": ".NET (C#)",
   "language": "C#",
   "name": ".net-csharp"
  },
  "polyglot_notebook": {
   "kernelInfo": {
    "defaultKernelName": "csharp",
    "items": [
     {
      "aliases": [],
      "languageName": "csharp",
      "name": "csharp"
     }
    ]
   }
  }
 },
 "nbformat": 4,
 "nbformat_minor": 2
}
